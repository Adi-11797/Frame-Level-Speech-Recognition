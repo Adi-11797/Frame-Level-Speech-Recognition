{
  "cells": [
    {
      "cell_type": "markdown",
      "metadata": {
        "id": "F9ERgBpbcMmB"
      },
      "source": [
        "# HW1: Frame-Level Speech Recognition"
      ]
    },
    {
      "cell_type": "markdown",
      "metadata": {
        "id": "CLkH6GMGcWcE"
      },
      "source": [
        "In this homework, you will be working with MFCC data consisting of 15 features at each time step/frame. Your model should be able to recognize the phoneme occured in that frame."
      ]
    },
    {
      "cell_type": "code",
      "execution_count": null,
      "metadata": {
        "id": "6dpZrAIFc6d7"
      },
      "outputs": [],
      "source": [
        "#!nvidia-smi"
      ]
    },
    {
      "cell_type": "markdown",
      "metadata": {
        "id": "z4vZbDmJvMp1"
      },
      "source": [
        "# Libraries"
      ]
    },
    {
      "cell_type": "code",
      "execution_count": null,
      "metadata": {
        "colab": {
          "base_uri": "https://localhost:8080/"
        },
        "id": "rwYu9sSUnSho",
        "outputId": "316d8e92-cefd-4566-86d6-197ce37a745e"
      },
      "outputs": [
        {
          "name": "stdout",
          "output_type": "stream",
          "text": [
            "\u001b[K     |████████████████████████████████| 1.8 MB 2.1 MB/s \n",
            "\u001b[K     |████████████████████████████████| 162 kB 59.7 MB/s \n",
            "\u001b[K     |████████████████████████████████| 181 kB 37.1 MB/s \n",
            "\u001b[K     |████████████████████████████████| 63 kB 1.6 MB/s \n",
            "\u001b[K     |████████████████████████████████| 158 kB 36.9 MB/s \n",
            "\u001b[K     |████████████████████████████████| 157 kB 61.1 MB/s \n",
            "\u001b[K     |████████████████████████████████| 157 kB 59.8 MB/s \n",
            "\u001b[K     |████████████████████████████████| 157 kB 53.9 MB/s \n",
            "\u001b[K     |████████████████████████████████| 157 kB 41.2 MB/s \n",
            "\u001b[K     |████████████████████████████████| 157 kB 39.1 MB/s \n",
            "\u001b[K     |████████████████████████████████| 157 kB 55.5 MB/s \n",
            "\u001b[K     |████████████████████████████████| 157 kB 36.9 MB/s \n",
            "\u001b[K     |████████████████████████████████| 156 kB 49.8 MB/s \n",
            "\u001b[?25h  Building wheel for pathtools (setup.py) ... \u001b[?25l\u001b[?25hdone\n"
          ]
        }
      ],
      "source": [
        "!pip install torchsummaryX wandb --quiet"
      ]
    },
    {
      "cell_type": "code",
      "execution_count": null,
      "metadata": {
        "colab": {
          "base_uri": "https://localhost:8080/"
        },
        "id": "qI4qfx7tiBZt",
        "outputId": "7c1ca0e5-90ff-4fd5-db4f-d9a6bfc5e404"
      },
      "outputs": [
        {
          "name": "stdout",
          "output_type": "stream",
          "text": [
            "Device:  cuda\n"
          ]
        }
      ],
      "source": [
        "import torch\n",
        "import numpy as np\n",
        "from torchsummaryX import summary\n",
        "import sklearn\n",
        "import sklearn.metrics\n",
        "import gc\n",
        "import zipfile\n",
        "import pandas as pd\n",
        "from tqdm.auto import tqdm\n",
        "import os\n",
        "import datetime\n",
        "import wandb\n",
        "import glob\n",
        "import librosa\n",
        "device = 'cuda' if torch.cuda.is_available() else 'cpu'\n",
        "print(\"Device: \", device)"
      ]
    },
    {
      "cell_type": "code",
      "execution_count": null,
      "metadata": {
        "colab": {
          "base_uri": "https://localhost:8080/"
        },
        "id": "8yBgXjKV1O0Z",
        "outputId": "612b2451-96c5-4af3-af08-e7223c49987d"
      },
      "outputs": [
        {
          "name": "stdout",
          "output_type": "stream",
          "text": [
            "Mounted at /content/drive\n"
          ]
        }
      ],
      "source": [
        "### If you are using colab, you can import google drive to save model checkpoints in a folder\n",
        "from google.colab import drive\n",
        "drive.mount('/content/drive')"
      ]
    },
    {
      "cell_type": "code",
      "execution_count": null,
      "metadata": {
        "colab": {
          "base_uri": "https://localhost:8080/"
        },
        "id": "2gNYKOLDLNRu",
        "outputId": "c532a7d0-68e7-40d6-dd10-a2f91844d1a8"
      },
      "outputs": [
        {
          "name": "stdout",
          "output_type": "stream",
          "text": [
            "Thu Sep 29 20:17:19 2022       \n",
            "+-----------------------------------------------------------------------------+\n",
            "| NVIDIA-SMI 460.32.03    Driver Version: 460.32.03    CUDA Version: 11.2     |\n",
            "|-------------------------------+----------------------+----------------------+\n",
            "| GPU  Name        Persistence-M| Bus-Id        Disp.A | Volatile Uncorr. ECC |\n",
            "| Fan  Temp  Perf  Pwr:Usage/Cap|         Memory-Usage | GPU-Util  Compute M. |\n",
            "|                               |                      |               MIG M. |\n",
            "|===============================+======================+======================|\n",
            "|   0  Tesla P100-PCIE...  Off  | 00000000:00:04.0 Off |                    0 |\n",
            "| N/A   49C    P0    30W / 250W |      2MiB / 16280MiB |      0%      Default |\n",
            "|                               |                      |                  N/A |\n",
            "+-------------------------------+----------------------+----------------------+\n",
            "                                                                               \n",
            "+-----------------------------------------------------------------------------+\n",
            "| Processes:                                                                  |\n",
            "|  GPU   GI   CI        PID   Type   Process name                  GPU Memory |\n",
            "|        ID   ID                                                   Usage      |\n",
            "|=============================================================================|\n",
            "|  No running processes found                                                 |\n",
            "+-----------------------------------------------------------------------------+\n"
          ]
        }
      ],
      "source": [
        "!nvidia-smi"
      ]
    },
    {
      "cell_type": "code",
      "execution_count": null,
      "metadata": {
        "id": "N-9qE20hmCgQ"
      },
      "outputs": [],
      "source": [
        "### PHONEME LIST\n",
        "PHONEMES = [\n",
        "            'SIL',   'AA',    'AE',    'AH',    'AO',    'AW',    'AY',  \n",
        "            'B',     'CH',    'D',     'DH',    'EH',    'ER',    'EY',\n",
        "            'F',     'G',     'HH',    'IH',    'IY',    'JH',    'K',\n",
        "            'L',     'M',     'N',     'NG',    'OW',    'OY',    'P',\n",
        "            'R',     'S',     'SH',    'T',     'TH',    'UH',    'UW',\n",
        "            'V',     'W',     'Y',     'Z',     'ZH',    '<sos>', '<eos>']"
      ]
    },
    {
      "cell_type": "markdown",
      "metadata": {
        "id": "ZIi0Big7vPa9"
      },
      "source": [
        "# Kaggle"
      ]
    },
    {
      "cell_type": "markdown",
      "metadata": {
        "id": "BBCbeRhixGM7"
      },
      "source": [
        "This section contains code that helps you install kaggle's API, creating kaggle.json with you username and API key details. Make sure to input those in the given code to ensure you can download data from the competition successfully."
      ]
    },
    {
      "cell_type": "code",
      "execution_count": null,
      "metadata": {
        "colab": {
          "base_uri": "https://localhost:8080/"
        },
        "id": "TPBUd7Cnl-Rx",
        "outputId": "0e1d35cf-3933-4ff7-a7a7-7a39df35e29e"
      },
      "outputs": [
        {
          "name": "stdout",
          "output_type": "stream",
          "text": [
            "Looking in indexes: https://pypi.org/simple, https://us-python.pkg.dev/colab-wheels/public/simple/\n",
            "Collecting kaggle==1.5.8\n",
            "  Downloading kaggle-1.5.8.tar.gz (59 kB)\n",
            "\u001b[K     |████████████████████████████████| 59 kB 1.6 MB/s \n",
            "\u001b[?25hBuilding wheels for collected packages: kaggle\n",
            "  Building wheel for kaggle (setup.py) ... \u001b[?25l\u001b[?25hdone\n",
            "  Created wheel for kaggle: filename=kaggle-1.5.8-py3-none-any.whl size=73275 sha256=0dd9fefcf2378b73598cf404d91abe96d04d46dfb1d25378531d0473aab8ddf2\n",
            "  Stored in directory: /root/.cache/pip/wheels/de/f7/d8/c3902cacb7e62cb611b1ad343d7cc07f42f7eb76ae3a52f3d1\n",
            "Successfully built kaggle\n",
            "Installing collected packages: kaggle\n",
            "  Attempting uninstall: kaggle\n",
            "    Found existing installation: kaggle 1.5.12\n",
            "    Uninstalling kaggle-1.5.12:\n",
            "      Successfully uninstalled kaggle-1.5.12\n",
            "Successfully installed kaggle-1.5.8\n"
          ]
        }
      ],
      "source": [
        "!pip install --upgrade --force-reinstall --no-deps kaggle==1.5.8\n",
        "!mkdir /root/.kaggle\n",
        "\n",
        "with open(\"/root/.kaggle/kaggle.json\", \"w+\") as f:\n",
        "    f.write('{\"username\":\"ripcurl11\",\"key\":\"a924e45910075179ad325ad28d952008\"}') \n",
        "    # Put your kaggle username & key here\n",
        "\n",
        "!chmod 600 /root/.kaggle/kaggle.json"
      ]
    },
    {
      "cell_type": "code",
      "execution_count": null,
      "metadata": {
        "colab": {
          "base_uri": "https://localhost:8080/"
        },
        "id": "if2Somqfbje1",
        "outputId": "2d255aa0-e491-4e3f-ee6b-523d476d23ed"
      },
      "outputs": [
        {
          "name": "stdout",
          "output_type": "stream",
          "text": [
            "Downloading 11-785-f22-hw1p2.zip to /content\n",
            "100% 2.12G/2.13G [00:32<00:00, 62.9MB/s]\n",
            "100% 2.13G/2.13G [00:32<00:00, 69.4MB/s]\n"
          ]
        }
      ],
      "source": [
        "# commands to download data from kaggle\n",
        "\n",
        "!kaggle competitions download -c 11-785-f22-hw1p2\n",
        "!mkdir '/content/data'\n",
        "\n",
        "!unzip -qo '11-785-f22-hw1p2.zip' -d '/content/data'"
      ]
    },
    {
      "cell_type": "code",
      "execution_count": null,
      "metadata": {
        "colab": {
          "base_uri": "https://localhost:8080/"
        },
        "id": "U7GENsl8881U",
        "outputId": "8455fb1b-ab9c-4a6c-d109-a8fefe74edf0"
      },
      "outputs": [
        {
          "name": "stdout",
          "output_type": "stream",
          "text": [
            "Drive already mounted at /content/drive; to attempt to forcibly remount, call drive.mount(\"/content/drive\", force_remount=True).\n"
          ]
        }
      ],
      "source": [
        "from google.colab import drive\n",
        "drive.mount('/content/drive')"
      ]
    },
    {
      "cell_type": "markdown",
      "metadata": {
        "id": "Vuzce0_TdcaR"
      },
      "source": [
        "# Data Augmentation"
      ]
    },
    {
      "cell_type": "code",
      "execution_count": null,
      "metadata": {
        "id": "L3FxjoE-t4_2"
      },
      "outputs": [],
      "source": [
        "class AugmentData():\n",
        "    def __init__(self, sampling_rate=None, pitch_factor=None, speed_factor=None):\n",
        "        self.sampling_rate = sampling_rate\n",
        "        self.pitch_factor = pitch_factor\n",
        "        self.speed_factor = speed_factor\n",
        "                \n",
        "    def inject_noise(self, data, noise_factor):\n",
        "        self.data = data\n",
        "        self.noise_factor = noise_factor \n",
        "        noise = np.random.randn(*self.data.shape)\n",
        "        augmented_data = self.data + (self.noise_factor * noise)\n",
        "        # Cast back to same datatype\n",
        "        augmented_data = augmented_data.astype(type(self.data[0]))\n",
        "        return augmented_data\n",
        "\n",
        "    # def time_shift(self, data, sampling_rate, shift_max, shift_direction):\n",
        "    #     shift = np.random.randint(sampling_rate * shift_max)\n",
        "    #     if shift_direction == 'right':\n",
        "    #         shift = -shift\n",
        "    #     elif shift_direction == 'both':\n",
        "\n",
        "    def change_pitch(self, data):\n",
        "        self.data = data\n",
        "        return librosa.effects.pitch_shift(self.data, self.sampling_rate, self.pitch_factor)\n",
        "\n",
        "    def change_speed(self, data):\n",
        "        self.data = data\n",
        "        return librosa.effects.time_stretch(self.data, self.speed_factor)\n",
        "\n",
        "    \n",
        "\n"
      ]
    },
    {
      "cell_type": "code",
      "execution_count": null,
      "metadata": {
        "id": "XXww2SfkEH_M"
      },
      "outputs": [],
      "source": [
        "#aug_data_obj = AugmentData()"
      ]
    },
    {
      "cell_type": "markdown",
      "metadata": {
        "id": "zRhUyRkatjzR"
      },
      "source": [
        "# Dataset"
      ]
    },
    {
      "cell_type": "markdown",
      "metadata": {
        "id": "2_7QgMbBdgPp"
      },
      "source": [
        "This section covers the dataset/dataloader class for speech data. You will have to spend time writing code to create this class successfully. We have given you a lot of comments guiding you on what code to write at each stage, from top to bottom of the class. Please try and take your time figuring this out, as it will immensely help in creating dataset/dataloader classes for future homeworks.\n",
        "\n",
        "Before running the following cells, please take some time to analyse the structure of data. Try loading a single MFCC and its transcipt, print out the shapes and print out the values. Do the transcripts look like phonemes?"
      ]
    },
    {
      "cell_type": "code",
      "execution_count": null,
      "metadata": {
        "colab": {
          "base_uri": "https://localhost:8080/"
        },
        "id": "yf9Yk5x6qdan",
        "outputId": "14312dba-2fc3-49d2-c40d-c2358c657ef6"
      },
      "outputs": [
        {
          "name": "stdout",
          "output_type": "stream",
          "text": [
            "/content\n"
          ]
        }
      ],
      "source": [
        "!pwd"
      ]
    },
    {
      "cell_type": "code",
      "execution_count": null,
      "metadata": {
        "id": "YpLCvi3AJC5z"
      },
      "outputs": [],
      "source": [
        "# Dataset class to load train and validation data\n",
        "\n",
        "class AudioDataset(torch.utils.data.Dataset):\n",
        "\n",
        "    def __init__(self, data_path, context=0, offset=0, partition= \"train\", limit=-1, percent_data=100): # Feel free to add more arguments\n",
        "\n",
        "        self.context = context\n",
        "        self.offset = context\n",
        "        self.data_path = data_path\n",
        "\n",
        "        paths = dict(\n",
        "            train= '/train-clean-100/',\n",
        "            dev= '/dev-clean/',\n",
        "            test= '/test-clean/',\n",
        "        )\n",
        "\n",
        "        self.mfcc_dir = self.data_path + paths[partition] + 'mfcc' # TODO: MFCC directory - use partition to acces train/dev directories from kaggle data\n",
        "        self.transcript_dir = self.data_path + paths[partition] + 'transcript'  # TODO: Transcripts directory - use partition to acces train/dev directories from kaggle data\n",
        "        #print('self.mfcc_dir: ', self.mfcc_dir)\n",
        "\n",
        "\n",
        "        mfcc_names = sorted(os.listdir(self.mfcc_dir)) # TODO: List files in sefl.mfcc_dir using os.listdir in sorted order, optionally subset using limit to slice the number of files you load\n",
        "        \n",
        "        transcript_names = sorted(os.listdir(self.transcript_dir)) # TODO: List files in self.transcript_dir using os.listdir in sorted order, optionally subset using limit to slice the number of files you load\n",
        "\n",
        "        assert len(mfcc_names) == len(transcript_names) # Making sure that we have the same no. of mfcc and transcripts\n",
        "\n",
        "        self.mfccs, self.transcripts = [], []\n",
        "\n",
        "        num_exmpls = int(len(mfcc_names) * percent_data / 100)\n",
        "\n",
        "\n",
        "       # create augmentation obj here\n",
        "        aug_data_obj = AugmentData()\n",
        "\n",
        "        # TODO:\n",
        "        # Iterate through mfccs and transcripts\n",
        "        for i in tqdm(range(0, num_exmpls)):\n",
        "        #   Load a single mfcc\n",
        "            mfcc = np.load(self.mfcc_dir + '/' + mfcc_names[i], allow_pickle=True)\n",
        "            #print(mfcc[i])\n",
        "            # augment here\n",
        "            aug_probability = (np.random.random() + 1) % 2 \n",
        "            percent_aug = 0.3\n",
        "            if aug_probability < percent_aug:\n",
        "                # call inject noise here\n",
        "                mfcc = aug_data_obj.inject_noise(mfcc, noise_factor=np.mean(mfcc)*0.5)\n",
        "\n",
        "        #!!!!!   Optionally do Cepstral Normalization of mfcc\n",
        "            #mfcc = (mfcc - mfcc.mean())/mfcc.std().  #about axis 0 only\n",
        "        #   Load the corresponding transcript\n",
        "            transcript = np.load(self.transcript_dir + '/' + transcript_names[i], allow_pickle=True)[1:-1] # Remove [SOS] and [EOS] from the transcript (Is there an efficient way to do this \n",
        "            # without traversing through the transcript?)\n",
        "        #   Append each mfcc to self.mfcc, transcript to self.transcript\n",
        "            self.mfccs.append(mfcc)\n",
        "            self.transcripts.append(transcript)\n",
        "\n",
        "        print('mfccs: ', len(self.mfccs))\n",
        "\n",
        "        # NOTE:\n",
        "        # Each mfcc is of shape T1 x 15, T2 x 15, ...\n",
        "        # Each transcript is of shape (T1+2) x 15, (T2+2) x 15 before removing [SOS] and [EOS]\n",
        "\n",
        "        # TODO: Concatenate all mfccs in self.mfccs such that the final shape is T x 15 (Where T = T1 + T2 + ...) \n",
        "        self.mfccs = np.concatenate(self.mfccs, axis = 0)\n",
        "\n",
        "        # TODO: Concatenate all transcripts in self.transcripts such that the final shape is (T,) meaning, each time step has one phoneme output\n",
        "        self.transcripts = np.concatenate(self.transcripts, axis = 0)\n",
        "\n",
        "        # Hint: Use numpy to concatenate\n",
        "        #self.length = len(self.mfccs)\n",
        "        # Take some time to think about what we have done. self.mfcc is an array of the format (Frames x Features). Our goal is to recognize phonemes of each frame\n",
        "        # From hw0, you will be knowing what context is. We can introduce context by padding zeros on top and bottom of self.mfcc\n",
        "        self.mfccs = np.pad(self.mfccs, ((self.context, self.context),(0,0)), 'constant', constant_values=0) # verify\n",
        "\n",
        "        # These are the available phonemes in the transcript\n",
        "        self.phonemes = [\n",
        "            'SIL',   'AA',    'AE',    'AH',    'AO',    'AW',    'AY',  \n",
        "            'B',     'CH',    'D',     'DH',    'EH',    'ER',    'EY',\n",
        "            'F',     'G',     'HH',    'IH',    'IY',    'JH',    'K',\n",
        "            'L',     'M',     'N',     'NG',    'OW',    'OY',    'P',\n",
        "            'R',     'S',     'SH',    'T',     'TH',    'UH',    'UW',\n",
        "            'V',     'W',     'Y',     'Z',     'ZH',    '<sos>', '<eos>']\n",
        "        # But the neural network cannot predict strings as such. Instead we map these phonemes to integers\n",
        "        \n",
        "        # Map the phonemes to their corresponding list indexes in self.phonemes\n",
        "        # # Now, if an element in self.transcript is 0, it means that it is 'SIL' (as per the above example)\n",
        "        translations = {phoneme: idx for idx, phoneme in enumerate(self.phonemes)}\n",
        "        self.transcripts = np.array([translations[phoneme] for phoneme in self.transcripts]) \n",
        "\n",
        "        # Length of the dataset is now the length of concatenated mfccs/transcripts\n",
        "        self.length = len(self.mfccs) - 2 *self.context\n",
        "        print(f'mfccs shape: {self.mfccs.shape}')\n",
        "        print(f'transcripts shape: {self.transcripts.shape}')\n",
        "\n",
        "    def __len__(self):\n",
        "        return self.length\n",
        "\n",
        "    def __getitem__(self, ind):\n",
        "        start_ind = ind + self.offset - self.context\n",
        "        end_ind = ind + self.offset + self.context + 1\n",
        "        frames = self.mfccs[start_ind : end_ind]\n",
        "\n",
        "        # After slicing, you get an array of shape 2*context+1 x 15. But our MLP needs 1d data and not 2d.\n",
        "        \n",
        "        frames = frames.flatten() # TODO: Flatten to get 1d data\n",
        "        frames = torch.FloatTensor(frames) # Convert to tensors\n",
        "\n",
        "        phoneme = torch.tensor(self.transcripts[ind], dtype=torch.long)       \n",
        "\n",
        "        return frames, phoneme\n",
        "\n"
      ]
    },
    {
      "cell_type": "code",
      "execution_count": null,
      "metadata": {
        "id": "e8KfVP39S6o7"
      },
      "outputs": [],
      "source": [
        "class AudioTestDataset(torch.utils.data.Dataset):\n",
        "    def __init__(self, data_path, context=0, offset=0, partition= \"test\", limit=-1, percent_data=100): # Feel free to add more arguments\n",
        "\n",
        "        self.context = context\n",
        "        self.offset = context\n",
        "        self.data_path = data_path\n",
        "\n",
        "        paths = dict(\n",
        "            train= '/train-clean-100/',\n",
        "            dev= '/dev-clean/',\n",
        "            test= '/test-clean/',\n",
        "        )\n",
        "\n",
        "        self.mfcc_dir = self.data_path + paths[partition] + 'mfcc/' # TODO: MFCC directory - use partition to acces train/dev directories from kaggle data\n",
        "\n",
        "        mfcc_names = sorted( filter( lambda x: os.path.isfile(os.path.join(self.mfcc_dir, x)),\n",
        "                        os.listdir(self.mfcc_dir) ) ) # TODO: List files in sefl.mfcc_dir using os.listdir in sorted order, optionally subset using limit to slice the number of files you load\n",
        "\n",
        "        self.mfccs = []\n",
        "\n",
        "        num_exmpls = int(len(mfcc_names) * percent_data / 100)\n",
        "        # TODO:\n",
        "        # Iterate through mfccs\n",
        "        for i in tqdm(range(0, num_exmpls)):\n",
        "        #   Load a single mfcc\n",
        "            mfcc = np.load(self.mfcc_dir + '/' + mfcc_names[i], allow_pickle=True)\n",
        "            #print(mfcc[i])\n",
        "\n",
        "        #!!!!!   Optionally do Cepstral Normalization of mfcc\n",
        "            #mfcc = (mfcc - mfcc.mean())/mfcc.std()\n",
        "\n",
        "        #   Append each mfcc to self.mfcc\n",
        "            self.mfccs.append(mfcc)\n",
        "\n",
        "        # NOTE:\n",
        "        # Each mfcc is of shape T1 x 15, T2 x 15, ...\n",
        "        # Each transcript is of shape (T1+2) x 15, (T2+2) x 15 before removing [SOS] and [EOS]\n",
        "\n",
        "        # TODO: Concatenate all mfccs in self.mfccs such that the final shape is T x 15 (Where T = T1 + T2 + ...) \n",
        "        self.mfccs = np.concatenate(self.mfccs, axis = 0)\n",
        "\n",
        "        \n",
        "        # Hint: Use numpy to concatenate\n",
        "        #self.length = len(self.mfccs)\n",
        "        # Take some time to think about what we have done. self.mfcc is an array of the format (Frames x Features). Our goal is to recognize phonemes of each frame\n",
        "        # From hw0, you will be knowing what context is. We can introduce context by padding zeros on top and bottom of self.mfcc\n",
        "        self.mfccs = np.pad(self.mfccs, ((self.context, self.context),(0,0)), 'constant', constant_values=0)\n",
        "\n",
        "\n",
        "        # Length of the dataset is now the length of concatenated mfccs\n",
        "        self.length = len(self.mfccs) - 2 *self.context\n",
        "\n",
        "    def __len__(self):\n",
        "        return self.length\n",
        "\n",
        "    def __getitem__(self, ind):\n",
        "        \n",
        "        frames = self.mfccs[(ind + self.offset - self.context) : (ind + self.offset + self.context + 1)]\n",
        "\n",
        "        # After slicing, you get an array of shape 2*context+1 x 15. But our MLP needs 1d data and not 2d.\n",
        "        frames = frames.flatten() # TODO: Flatten to get 1d data\n",
        "        frames = torch.FloatTensor(frames) # Convert to tensors\n",
        "        \n",
        "        return frames\n",
        "\n",
        "    # TODO: Create a test dataset class similar to the previous class but you dont have transcripts for this\n",
        "    # Imp: Read the mfccs in sorted order, do NOT shuffle the data here or in your dataloader."
      ]
    },
    {
      "cell_type": "markdown",
      "metadata": {
        "id": "qNacQ8bpt9nw"
      },
      "source": [
        "# Parameters Configuration"
      ]
    },
    {
      "cell_type": "markdown",
      "metadata": {
        "id": "WE7tsinAuLNy"
      },
      "source": [
        "Storing your parameters and hyperparameters in a single configuration dictionary makes it easier to keep track of them during each experiment. It can also be used with weights and biases to log your parameters for each experiment and keep track of them across multiple experiments. "
      ]
    },
    {
      "cell_type": "code",
      "execution_count": null,
      "metadata": {
        "id": "PmKwlFqgt_Zq"
      },
      "outputs": [],
      "source": [
        "config = {\n",
        "    'epochs': 30,\n",
        "    'batch_size' : 2048,\n",
        "    'context' : 35,\n",
        "    'learning_rate' : 0.001,\n",
        "    'architecture' : 'high-cutoff',\n",
        "    'percent_data' : 100, ## added to control experiment size\n",
        "    'hidden_sizes': [2400,2048,1900,1800,1500,1200] \n",
        "    # Add more as you need them - e.g dropout values, weight decay, scheduler parameters\n",
        "}"
      ]
    },
    {
      "cell_type": "markdown",
      "metadata": {
        "id": "2mlwaKlDt_2c"
      },
      "source": [
        "# Create Datasets"
      ]
    },
    {
      "cell_type": "code",
      "execution_count": null,
      "metadata": {
        "colab": {
          "base_uri": "https://localhost:8080/"
        },
        "id": "7xi7V8x8W9z4",
        "outputId": "4628d881-003f-4362-c586-252340f3a949"
      },
      "outputs": [
        {
          "name": "stderr",
          "output_type": "stream",
          "text": [
            "100%|██████████| 28539/28539 [00:23<00:00, 1220.05it/s]\n"
          ]
        },
        {
          "name": "stdout",
          "output_type": "stream",
          "text": [
            "mfccs:  28539\n",
            "mfccs shape: (36191204, 15)\n",
            "transcripts shape: (36191134,)\n"
          ]
        },
        {
          "name": "stderr",
          "output_type": "stream",
          "text": [
            "100%|██████████| 2703/2703 [00:02<00:00, 1285.72it/s]\n"
          ]
        },
        {
          "name": "stdout",
          "output_type": "stream",
          "text": [
            "mfccs:  2703\n",
            "mfccs shape: (1937566, 15)\n",
            "transcripts shape: (1937496,)\n"
          ]
        },
        {
          "name": "stderr",
          "output_type": "stream",
          "text": [
            "100%|██████████| 2620/2620 [00:00<00:00, 2630.61it/s]\n"
          ]
        }
      ],
      "source": [
        "data_path = '/content/data'\n",
        "\n",
        "train_data = AudioDataset(data_path, context=config['context'], percent_data=config['percent_data']) #TODO: Create a dataset object using the AudioDataset class for the training data \n",
        "\n",
        "val_data = AudioDataset(data_path, partition='dev', context=config['context'], percent_data=config['percent_data']) # TODO: Create a dataset object using the AudioDataset class for the validation data \n",
        "\n",
        "test_data = AudioTestDataset(data_path, context=config['context'], percent_data=config['percent_data']) # TODO: Create a dataset object using the AudioTestDataset class for the test data "
      ]
    },
    {
      "cell_type": "code",
      "execution_count": null,
      "metadata": {
        "colab": {
          "base_uri": "https://localhost:8080/"
        },
        "id": "4mzoYfTKu14s",
        "outputId": "c82b004d-e94c-4565-cd06-d2818fe5c26c"
      },
      "outputs": [
        {
          "name": "stdout",
          "output_type": "stream",
          "text": [
            "Batch size:  2048\n",
            "Context:  35\n",
            "Input size:  1065\n",
            "Output symbols:  42\n",
            "Train dataset samples = 36191134, batches = 17672\n",
            "Validation dataset samples = 1937496, batches = 947\n",
            "Test dataset samples = 1943253, batches = 949\n"
          ]
        }
      ],
      "source": [
        "# Define dataloaders for train, val and test datasets\n",
        "# Dataloaders will yield a batch of frames and phonemes of given batch_size at every iteration\n",
        "train_loader = torch.utils.data.DataLoader(train_data, num_workers= 4,\n",
        "                                           batch_size=config['batch_size'], pin_memory= True,\n",
        "                                           shuffle= True)\n",
        "\n",
        "val_loader = torch.utils.data.DataLoader(val_data, num_workers= 2,\n",
        "                                         batch_size=config['batch_size'], pin_memory= True,\n",
        "                                         shuffle= False)\n",
        "\n",
        "test_loader = torch.utils.data.DataLoader(test_data, num_workers= 2, \n",
        "                                          batch_size=config['batch_size'], pin_memory= True, \n",
        "                                          shuffle= False)\n",
        "\n",
        "\n",
        "print(\"Batch size: \", config['batch_size'])\n",
        "print(\"Context: \", config['context'])\n",
        "print(\"Input size: \", (2*config['context']+1)*15)\n",
        "print(\"Output symbols: \", len(PHONEMES))\n",
        "\n",
        "print(\"Train dataset samples = {}, batches = {}\".format(train_data.__len__(), len(train_loader)))\n",
        "print(\"Validation dataset samples = {}, batches = {}\".format(val_data.__len__(), len(val_loader)))\n",
        "print(\"Test dataset samples = {}, batches = {}\".format(test_data.__len__(), len(test_loader)))"
      ]
    },
    {
      "cell_type": "code",
      "execution_count": null,
      "metadata": {
        "colab": {
          "base_uri": "https://localhost:8080/"
        },
        "id": "n-GV3UvgLSoF",
        "outputId": "31656570-ad03-4a3c-c0b3-5c135bb32925"
      },
      "outputs": [
        {
          "name": "stdout",
          "output_type": "stream",
          "text": [
            "torch.Size([2048, 1065])\n"
          ]
        }
      ],
      "source": [
        "# Testing code to check if your data loaders are working\n",
        "for i, data in enumerate(train_loader):\n",
        "    try:\n",
        "        frames, phoneme = data\n",
        "        print(frames.shape)\n",
        "    except:\n",
        "        print(f'error in {i}th batch')\n",
        "    break\n",
        "    #print(frames.shape, phoneme.shape)\n",
        "    "
      ]
    },
    {
      "cell_type": "markdown",
      "metadata": {
        "id": "Nxjwve20JRJ2"
      },
      "source": [
        "# Network Architecture\n"
      ]
    },
    {
      "cell_type": "markdown",
      "metadata": {
        "id": "3NJzT-mRw6iy"
      },
      "source": [
        "This section defines your network architecture for the homework. We have given you a sample architecture that can easily clear the very low cutoff for the early submission deadline."
      ]
    },
    {
      "cell_type": "code",
      "execution_count": null,
      "metadata": {
        "id": "LeccJkjIYprs"
      },
      "outputs": [],
      "source": [
        "from torch import nn"
      ]
    },
    {
      "cell_type": "code",
      "execution_count": null,
      "metadata": {
        "id": "v-cUaF_K6DBa"
      },
      "outputs": [],
      "source": [
        "class LayerNorm(nn.Module):\n",
        "    \"Construct a layernorm module (See citation for details).\"\n",
        "    def __init__(self, features, eps=1e-6):\n",
        "        super(LayerNorm, self).__init__()\n",
        "        self.a_2 = nn.Parameter(torch.ones(features))\n",
        "        self.b_2 = nn.Parameter(torch.zeros(features))\n",
        "        self.eps = eps\n",
        "\n",
        "    def forward(self, x):\n",
        "        mean = x.mean(-1, keepdim=True)\n",
        "        std = x.std(-1, keepdim=True)\n",
        "        return self.a_2 * (x - mean) / (std + self.eps) + self.b_2"
      ]
    },
    {
      "cell_type": "code",
      "execution_count": null,
      "metadata": {
        "id": "RMZ0w56oXZHL"
      },
      "outputs": [],
      "source": [
        "class LinearBlock(nn.Module):\n",
        "    '''\n",
        "    stacks repetitive network layers together\n",
        "    eg. linear -> relu\n",
        "    '''\n",
        "    def __init__(self, input_size, output_size, skip_conn=False):\n",
        "        super().__init__()\n",
        "        self.linear_block = nn.Sequential(\n",
        "            nn.Linear(input_size, output_size, bias=False),\n",
        "            nn.BatchNorm1d(output_size),\n",
        "            nn.ReLU(inplace=True),\n",
        "            nn.Dropout(0.2)\n",
        "        )\n",
        "        self.skip_conn = skip_conn\n",
        "    def forward(self, x):\n",
        "        if self.skip_conn:\n",
        "            return x + self.linear_block(x)\n",
        "        else:\n",
        "            return self.linear_block(x)"
      ]
    },
    {
      "cell_type": "code",
      "execution_count": null,
      "metadata": {
        "id": "dSf52GPEbk8F"
      },
      "outputs": [],
      "source": [
        "import copy\n",
        "def clone(module_name, hidden_sizes, N):\n",
        "    return nn.ModuleList(\n",
        "        [copy.deepcopy(module_name(hidden_sizes[i], hidden_sizes[i+1])) for i in range(N-1)]\n",
        "        )"
      ]
    },
    {
      "cell_type": "code",
      "execution_count": null,
      "metadata": {
        "id": "FM7QWVFLaOxv"
      },
      "outputs": [],
      "source": [
        "class Network(nn.Module):\n",
        "    def __init__(self, context):\n",
        "\n",
        "        super().__init__()\n",
        "\n",
        "        input_size = 15*(2*context + 1) #Why is this the case?\n",
        "        hidden_sizes = config['hidden_sizes']\n",
        "        output_size = 40 #Why?\n",
        "        self.model = nn.Sequential(\n",
        "            LinearBlock(input_size, hidden_sizes[0]),\n",
        "            *clone(LinearBlock, hidden_sizes, N=len(hidden_sizes)),\n",
        "            nn.Linear(hidden_sizes[-1], output_size)\n",
        "        )\n",
        "         \n",
        "\n",
        "    def forward(self, x):\n",
        "        out = self.model(x)\n",
        "\n",
        "        return out"
      ]
    },
    {
      "cell_type": "markdown",
      "metadata": {
        "id": "HejoSXe3vMVU"
      },
      "source": [
        "# Define Model, Loss Function and Optimizer"
      ]
    },
    {
      "cell_type": "markdown",
      "metadata": {
        "id": "xAhGBH7-xxth"
      },
      "source": [
        "Here we define the model, loss function, optimizer and optionally a learning rate scheduler. "
      ]
    },
    {
      "cell_type": "code",
      "execution_count": null,
      "metadata": {
        "colab": {
          "base_uri": "https://localhost:8080/",
          "height": 1000
        },
        "id": "_qtrEM1ZvLje",
        "outputId": "ab975c1c-5967-4cd7-d992-84f92160e1d8"
      },
      "outputs": [
        {
          "name": "stdout",
          "output_type": "stream",
          "text": [
            "=======================================================================================\n",
            "                                       Kernel Shape  Output Shape   Params  \\\n",
            "Layer                                                                        \n",
            "0_model.0.linear_block.Linear_0        [1065, 2400]  [2048, 2400]   2.556M   \n",
            "1_model.0.linear_block.BatchNorm1d_1         [2400]  [2048, 2400]     4.8k   \n",
            "2_model.0.linear_block.ReLU_2                     -  [2048, 2400]        -   \n",
            "3_model.0.linear_block.Dropout_3                  -  [2048, 2400]        -   \n",
            "4_model.1.linear_block.Linear_0        [2400, 2048]  [2048, 2048]  4.9152M   \n",
            "5_model.1.linear_block.BatchNorm1d_1         [2048]  [2048, 2048]   4.096k   \n",
            "6_model.1.linear_block.ReLU_2                     -  [2048, 2048]        -   \n",
            "7_model.1.linear_block.Dropout_3                  -  [2048, 2048]        -   \n",
            "8_model.2.linear_block.Linear_0        [2048, 1900]  [2048, 1900]  3.8912M   \n",
            "9_model.2.linear_block.BatchNorm1d_1         [1900]  [2048, 1900]     3.8k   \n",
            "10_model.2.linear_block.ReLU_2                    -  [2048, 1900]        -   \n",
            "11_model.2.linear_block.Dropout_3                 -  [2048, 1900]        -   \n",
            "12_model.3.linear_block.Linear_0       [1900, 1800]  [2048, 1800]    3.42M   \n",
            "13_model.3.linear_block.BatchNorm1d_1        [1800]  [2048, 1800]     3.6k   \n",
            "14_model.3.linear_block.ReLU_2                    -  [2048, 1800]        -   \n",
            "15_model.3.linear_block.Dropout_3                 -  [2048, 1800]        -   \n",
            "16_model.4.linear_block.Linear_0       [1800, 1500]  [2048, 1500]     2.7M   \n",
            "17_model.4.linear_block.BatchNorm1d_1        [1500]  [2048, 1500]     3.0k   \n",
            "18_model.4.linear_block.ReLU_2                    -  [2048, 1500]        -   \n",
            "19_model.4.linear_block.Dropout_3                 -  [2048, 1500]        -   \n",
            "20_model.5.linear_block.Linear_0       [1500, 1200]  [2048, 1200]     1.8M   \n",
            "21_model.5.linear_block.BatchNorm1d_1        [1200]  [2048, 1200]     2.4k   \n",
            "22_model.5.linear_block.ReLU_2                    -  [2048, 1200]        -   \n",
            "23_model.5.linear_block.Dropout_3                 -  [2048, 1200]        -   \n",
            "24_model.Linear_6                        [1200, 40]    [2048, 40]   48.04k   \n",
            "\n",
            "                                      Mult-Adds  \n",
            "Layer                                            \n",
            "0_model.0.linear_block.Linear_0          2.556M  \n",
            "1_model.0.linear_block.BatchNorm1d_1       2.4k  \n",
            "2_model.0.linear_block.ReLU_2                 -  \n",
            "3_model.0.linear_block.Dropout_3              -  \n",
            "4_model.1.linear_block.Linear_0         4.9152M  \n",
            "5_model.1.linear_block.BatchNorm1d_1     2.048k  \n",
            "6_model.1.linear_block.ReLU_2                 -  \n",
            "7_model.1.linear_block.Dropout_3              -  \n",
            "8_model.2.linear_block.Linear_0         3.8912M  \n",
            "9_model.2.linear_block.BatchNorm1d_1       1.9k  \n",
            "10_model.2.linear_block.ReLU_2                -  \n",
            "11_model.2.linear_block.Dropout_3             -  \n",
            "12_model.3.linear_block.Linear_0          3.42M  \n",
            "13_model.3.linear_block.BatchNorm1d_1      1.8k  \n",
            "14_model.3.linear_block.ReLU_2                -  \n",
            "15_model.3.linear_block.Dropout_3             -  \n",
            "16_model.4.linear_block.Linear_0           2.7M  \n",
            "17_model.4.linear_block.BatchNorm1d_1      1.5k  \n",
            "18_model.4.linear_block.ReLU_2                -  \n",
            "19_model.4.linear_block.Dropout_3             -  \n",
            "20_model.5.linear_block.Linear_0           1.8M  \n",
            "21_model.5.linear_block.BatchNorm1d_1      1.2k  \n",
            "22_model.5.linear_block.ReLU_2                -  \n",
            "23_model.5.linear_block.Dropout_3             -  \n",
            "24_model.Linear_6                         48.0k  \n",
            "---------------------------------------------------------------------------------------\n",
            "                          Totals\n",
            "Total params          19.352136M\n",
            "Trainable params      19.352136M\n",
            "Non-trainable params         0.0\n",
            "Mult-Adds             19.341248M\n",
            "=======================================================================================\n"
          ]
        },
        {
          "name": "stderr",
          "output_type": "stream",
          "text": [
            "/usr/local/lib/python3.7/dist-packages/torchsummaryX/torchsummaryX.py:101: FutureWarning: Dropping of nuisance columns in DataFrame reductions (with 'numeric_only=None') is deprecated; in a future version this will raise TypeError.  Select only valid columns before calling the reduction.\n",
            "  df_sum = df.sum()\n"
          ]
        },
        {
          "data": {
            "text/html": [
              "\n",
              "  <div id=\"df-8ba84151-0db6-4286-926a-f264470cfd13\">\n",
              "    <div class=\"colab-df-container\">\n",
              "      <div>\n",
              "<style scoped>\n",
              "    .dataframe tbody tr th:only-of-type {\n",
              "        vertical-align: middle;\n",
              "    }\n",
              "\n",
              "    .dataframe tbody tr th {\n",
              "        vertical-align: top;\n",
              "    }\n",
              "\n",
              "    .dataframe thead th {\n",
              "        text-align: right;\n",
              "    }\n",
              "</style>\n",
              "<table border=\"1\" class=\"dataframe\">\n",
              "  <thead>\n",
              "    <tr style=\"text-align: right;\">\n",
              "      <th></th>\n",
              "      <th>Kernel Shape</th>\n",
              "      <th>Output Shape</th>\n",
              "      <th>Params</th>\n",
              "      <th>Mult-Adds</th>\n",
              "    </tr>\n",
              "    <tr>\n",
              "      <th>Layer</th>\n",
              "      <th></th>\n",
              "      <th></th>\n",
              "      <th></th>\n",
              "      <th></th>\n",
              "    </tr>\n",
              "  </thead>\n",
              "  <tbody>\n",
              "    <tr>\n",
              "      <th>0_model.0.linear_block.Linear_0</th>\n",
              "      <td>[1065, 2400]</td>\n",
              "      <td>[2048, 2400]</td>\n",
              "      <td>2556000.0</td>\n",
              "      <td>2556000.0</td>\n",
              "    </tr>\n",
              "    <tr>\n",
              "      <th>1_model.0.linear_block.BatchNorm1d_1</th>\n",
              "      <td>[2400]</td>\n",
              "      <td>[2048, 2400]</td>\n",
              "      <td>4800.0</td>\n",
              "      <td>2400.0</td>\n",
              "    </tr>\n",
              "    <tr>\n",
              "      <th>2_model.0.linear_block.ReLU_2</th>\n",
              "      <td>-</td>\n",
              "      <td>[2048, 2400]</td>\n",
              "      <td>NaN</td>\n",
              "      <td>NaN</td>\n",
              "    </tr>\n",
              "    <tr>\n",
              "      <th>3_model.0.linear_block.Dropout_3</th>\n",
              "      <td>-</td>\n",
              "      <td>[2048, 2400]</td>\n",
              "      <td>NaN</td>\n",
              "      <td>NaN</td>\n",
              "    </tr>\n",
              "    <tr>\n",
              "      <th>4_model.1.linear_block.Linear_0</th>\n",
              "      <td>[2400, 2048]</td>\n",
              "      <td>[2048, 2048]</td>\n",
              "      <td>4915200.0</td>\n",
              "      <td>4915200.0</td>\n",
              "    </tr>\n",
              "    <tr>\n",
              "      <th>5_model.1.linear_block.BatchNorm1d_1</th>\n",
              "      <td>[2048]</td>\n",
              "      <td>[2048, 2048]</td>\n",
              "      <td>4096.0</td>\n",
              "      <td>2048.0</td>\n",
              "    </tr>\n",
              "    <tr>\n",
              "      <th>6_model.1.linear_block.ReLU_2</th>\n",
              "      <td>-</td>\n",
              "      <td>[2048, 2048]</td>\n",
              "      <td>NaN</td>\n",
              "      <td>NaN</td>\n",
              "    </tr>\n",
              "    <tr>\n",
              "      <th>7_model.1.linear_block.Dropout_3</th>\n",
              "      <td>-</td>\n",
              "      <td>[2048, 2048]</td>\n",
              "      <td>NaN</td>\n",
              "      <td>NaN</td>\n",
              "    </tr>\n",
              "    <tr>\n",
              "      <th>8_model.2.linear_block.Linear_0</th>\n",
              "      <td>[2048, 1900]</td>\n",
              "      <td>[2048, 1900]</td>\n",
              "      <td>3891200.0</td>\n",
              "      <td>3891200.0</td>\n",
              "    </tr>\n",
              "    <tr>\n",
              "      <th>9_model.2.linear_block.BatchNorm1d_1</th>\n",
              "      <td>[1900]</td>\n",
              "      <td>[2048, 1900]</td>\n",
              "      <td>3800.0</td>\n",
              "      <td>1900.0</td>\n",
              "    </tr>\n",
              "    <tr>\n",
              "      <th>10_model.2.linear_block.ReLU_2</th>\n",
              "      <td>-</td>\n",
              "      <td>[2048, 1900]</td>\n",
              "      <td>NaN</td>\n",
              "      <td>NaN</td>\n",
              "    </tr>\n",
              "    <tr>\n",
              "      <th>11_model.2.linear_block.Dropout_3</th>\n",
              "      <td>-</td>\n",
              "      <td>[2048, 1900]</td>\n",
              "      <td>NaN</td>\n",
              "      <td>NaN</td>\n",
              "    </tr>\n",
              "    <tr>\n",
              "      <th>12_model.3.linear_block.Linear_0</th>\n",
              "      <td>[1900, 1800]</td>\n",
              "      <td>[2048, 1800]</td>\n",
              "      <td>3420000.0</td>\n",
              "      <td>3420000.0</td>\n",
              "    </tr>\n",
              "    <tr>\n",
              "      <th>13_model.3.linear_block.BatchNorm1d_1</th>\n",
              "      <td>[1800]</td>\n",
              "      <td>[2048, 1800]</td>\n",
              "      <td>3600.0</td>\n",
              "      <td>1800.0</td>\n",
              "    </tr>\n",
              "    <tr>\n",
              "      <th>14_model.3.linear_block.ReLU_2</th>\n",
              "      <td>-</td>\n",
              "      <td>[2048, 1800]</td>\n",
              "      <td>NaN</td>\n",
              "      <td>NaN</td>\n",
              "    </tr>\n",
              "    <tr>\n",
              "      <th>15_model.3.linear_block.Dropout_3</th>\n",
              "      <td>-</td>\n",
              "      <td>[2048, 1800]</td>\n",
              "      <td>NaN</td>\n",
              "      <td>NaN</td>\n",
              "    </tr>\n",
              "    <tr>\n",
              "      <th>16_model.4.linear_block.Linear_0</th>\n",
              "      <td>[1800, 1500]</td>\n",
              "      <td>[2048, 1500]</td>\n",
              "      <td>2700000.0</td>\n",
              "      <td>2700000.0</td>\n",
              "    </tr>\n",
              "    <tr>\n",
              "      <th>17_model.4.linear_block.BatchNorm1d_1</th>\n",
              "      <td>[1500]</td>\n",
              "      <td>[2048, 1500]</td>\n",
              "      <td>3000.0</td>\n",
              "      <td>1500.0</td>\n",
              "    </tr>\n",
              "    <tr>\n",
              "      <th>18_model.4.linear_block.ReLU_2</th>\n",
              "      <td>-</td>\n",
              "      <td>[2048, 1500]</td>\n",
              "      <td>NaN</td>\n",
              "      <td>NaN</td>\n",
              "    </tr>\n",
              "    <tr>\n",
              "      <th>19_model.4.linear_block.Dropout_3</th>\n",
              "      <td>-</td>\n",
              "      <td>[2048, 1500]</td>\n",
              "      <td>NaN</td>\n",
              "      <td>NaN</td>\n",
              "    </tr>\n",
              "    <tr>\n",
              "      <th>20_model.5.linear_block.Linear_0</th>\n",
              "      <td>[1500, 1200]</td>\n",
              "      <td>[2048, 1200]</td>\n",
              "      <td>1800000.0</td>\n",
              "      <td>1800000.0</td>\n",
              "    </tr>\n",
              "    <tr>\n",
              "      <th>21_model.5.linear_block.BatchNorm1d_1</th>\n",
              "      <td>[1200]</td>\n",
              "      <td>[2048, 1200]</td>\n",
              "      <td>2400.0</td>\n",
              "      <td>1200.0</td>\n",
              "    </tr>\n",
              "    <tr>\n",
              "      <th>22_model.5.linear_block.ReLU_2</th>\n",
              "      <td>-</td>\n",
              "      <td>[2048, 1200]</td>\n",
              "      <td>NaN</td>\n",
              "      <td>NaN</td>\n",
              "    </tr>\n",
              "    <tr>\n",
              "      <th>23_model.5.linear_block.Dropout_3</th>\n",
              "      <td>-</td>\n",
              "      <td>[2048, 1200]</td>\n",
              "      <td>NaN</td>\n",
              "      <td>NaN</td>\n",
              "    </tr>\n",
              "    <tr>\n",
              "      <th>24_model.Linear_6</th>\n",
              "      <td>[1200, 40]</td>\n",
              "      <td>[2048, 40]</td>\n",
              "      <td>48040.0</td>\n",
              "      <td>48000.0</td>\n",
              "    </tr>\n",
              "  </tbody>\n",
              "</table>\n",
              "</div>\n",
              "      <button class=\"colab-df-convert\" onclick=\"convertToInteractive('df-8ba84151-0db6-4286-926a-f264470cfd13')\"\n",
              "              title=\"Convert this dataframe to an interactive table.\"\n",
              "              style=\"display:none;\">\n",
              "        \n",
              "  <svg xmlns=\"http://www.w3.org/2000/svg\" height=\"24px\"viewBox=\"0 0 24 24\"\n",
              "       width=\"24px\">\n",
              "    <path d=\"M0 0h24v24H0V0z\" fill=\"none\"/>\n",
              "    <path d=\"M18.56 5.44l.94 2.06.94-2.06 2.06-.94-2.06-.94-.94-2.06-.94 2.06-2.06.94zm-11 1L8.5 8.5l.94-2.06 2.06-.94-2.06-.94L8.5 2.5l-.94 2.06-2.06.94zm10 10l.94 2.06.94-2.06 2.06-.94-2.06-.94-.94-2.06-.94 2.06-2.06.94z\"/><path d=\"M17.41 7.96l-1.37-1.37c-.4-.4-.92-.59-1.43-.59-.52 0-1.04.2-1.43.59L10.3 9.45l-7.72 7.72c-.78.78-.78 2.05 0 2.83L4 21.41c.39.39.9.59 1.41.59.51 0 1.02-.2 1.41-.59l7.78-7.78 2.81-2.81c.8-.78.8-2.07 0-2.86zM5.41 20L4 18.59l7.72-7.72 1.47 1.35L5.41 20z\"/>\n",
              "  </svg>\n",
              "      </button>\n",
              "      \n",
              "  <style>\n",
              "    .colab-df-container {\n",
              "      display:flex;\n",
              "      flex-wrap:wrap;\n",
              "      gap: 12px;\n",
              "    }\n",
              "\n",
              "    .colab-df-convert {\n",
              "      background-color: #E8F0FE;\n",
              "      border: none;\n",
              "      border-radius: 50%;\n",
              "      cursor: pointer;\n",
              "      display: none;\n",
              "      fill: #1967D2;\n",
              "      height: 32px;\n",
              "      padding: 0 0 0 0;\n",
              "      width: 32px;\n",
              "    }\n",
              "\n",
              "    .colab-df-convert:hover {\n",
              "      background-color: #E2EBFA;\n",
              "      box-shadow: 0px 1px 2px rgba(60, 64, 67, 0.3), 0px 1px 3px 1px rgba(60, 64, 67, 0.15);\n",
              "      fill: #174EA6;\n",
              "    }\n",
              "\n",
              "    [theme=dark] .colab-df-convert {\n",
              "      background-color: #3B4455;\n",
              "      fill: #D2E3FC;\n",
              "    }\n",
              "\n",
              "    [theme=dark] .colab-df-convert:hover {\n",
              "      background-color: #434B5C;\n",
              "      box-shadow: 0px 1px 3px 1px rgba(0, 0, 0, 0.15);\n",
              "      filter: drop-shadow(0px 1px 2px rgba(0, 0, 0, 0.3));\n",
              "      fill: #FFFFFF;\n",
              "    }\n",
              "  </style>\n",
              "\n",
              "      <script>\n",
              "        const buttonEl =\n",
              "          document.querySelector('#df-8ba84151-0db6-4286-926a-f264470cfd13 button.colab-df-convert');\n",
              "        buttonEl.style.display =\n",
              "          google.colab.kernel.accessAllowed ? 'block' : 'none';\n",
              "\n",
              "        async function convertToInteractive(key) {\n",
              "          const element = document.querySelector('#df-8ba84151-0db6-4286-926a-f264470cfd13');\n",
              "          const dataTable =\n",
              "            await google.colab.kernel.invokeFunction('convertToInteractive',\n",
              "                                                     [key], {});\n",
              "          if (!dataTable) return;\n",
              "\n",
              "          const docLinkHtml = 'Like what you see? Visit the ' +\n",
              "            '<a target=\"_blank\" href=https://colab.research.google.com/notebooks/data_table.ipynb>data table notebook</a>'\n",
              "            + ' to learn more about interactive tables.';\n",
              "          element.innerHTML = '';\n",
              "          dataTable['output_type'] = 'display_data';\n",
              "          await google.colab.output.renderOutput(dataTable, element);\n",
              "          const docLink = document.createElement('div');\n",
              "          docLink.innerHTML = docLinkHtml;\n",
              "          element.appendChild(docLink);\n",
              "        }\n",
              "      </script>\n",
              "    </div>\n",
              "  </div>\n",
              "  "
            ],
            "text/plain": [
              "                                       Kernel Shape  Output Shape     Params  \\\n",
              "Layer                                                                          \n",
              "0_model.0.linear_block.Linear_0        [1065, 2400]  [2048, 2400]  2556000.0   \n",
              "1_model.0.linear_block.BatchNorm1d_1         [2400]  [2048, 2400]     4800.0   \n",
              "2_model.0.linear_block.ReLU_2                     -  [2048, 2400]        NaN   \n",
              "3_model.0.linear_block.Dropout_3                  -  [2048, 2400]        NaN   \n",
              "4_model.1.linear_block.Linear_0        [2400, 2048]  [2048, 2048]  4915200.0   \n",
              "5_model.1.linear_block.BatchNorm1d_1         [2048]  [2048, 2048]     4096.0   \n",
              "6_model.1.linear_block.ReLU_2                     -  [2048, 2048]        NaN   \n",
              "7_model.1.linear_block.Dropout_3                  -  [2048, 2048]        NaN   \n",
              "8_model.2.linear_block.Linear_0        [2048, 1900]  [2048, 1900]  3891200.0   \n",
              "9_model.2.linear_block.BatchNorm1d_1         [1900]  [2048, 1900]     3800.0   \n",
              "10_model.2.linear_block.ReLU_2                    -  [2048, 1900]        NaN   \n",
              "11_model.2.linear_block.Dropout_3                 -  [2048, 1900]        NaN   \n",
              "12_model.3.linear_block.Linear_0       [1900, 1800]  [2048, 1800]  3420000.0   \n",
              "13_model.3.linear_block.BatchNorm1d_1        [1800]  [2048, 1800]     3600.0   \n",
              "14_model.3.linear_block.ReLU_2                    -  [2048, 1800]        NaN   \n",
              "15_model.3.linear_block.Dropout_3                 -  [2048, 1800]        NaN   \n",
              "16_model.4.linear_block.Linear_0       [1800, 1500]  [2048, 1500]  2700000.0   \n",
              "17_model.4.linear_block.BatchNorm1d_1        [1500]  [2048, 1500]     3000.0   \n",
              "18_model.4.linear_block.ReLU_2                    -  [2048, 1500]        NaN   \n",
              "19_model.4.linear_block.Dropout_3                 -  [2048, 1500]        NaN   \n",
              "20_model.5.linear_block.Linear_0       [1500, 1200]  [2048, 1200]  1800000.0   \n",
              "21_model.5.linear_block.BatchNorm1d_1        [1200]  [2048, 1200]     2400.0   \n",
              "22_model.5.linear_block.ReLU_2                    -  [2048, 1200]        NaN   \n",
              "23_model.5.linear_block.Dropout_3                 -  [2048, 1200]        NaN   \n",
              "24_model.Linear_6                        [1200, 40]    [2048, 40]    48040.0   \n",
              "\n",
              "                                       Mult-Adds  \n",
              "Layer                                             \n",
              "0_model.0.linear_block.Linear_0        2556000.0  \n",
              "1_model.0.linear_block.BatchNorm1d_1      2400.0  \n",
              "2_model.0.linear_block.ReLU_2                NaN  \n",
              "3_model.0.linear_block.Dropout_3             NaN  \n",
              "4_model.1.linear_block.Linear_0        4915200.0  \n",
              "5_model.1.linear_block.BatchNorm1d_1      2048.0  \n",
              "6_model.1.linear_block.ReLU_2                NaN  \n",
              "7_model.1.linear_block.Dropout_3             NaN  \n",
              "8_model.2.linear_block.Linear_0        3891200.0  \n",
              "9_model.2.linear_block.BatchNorm1d_1      1900.0  \n",
              "10_model.2.linear_block.ReLU_2               NaN  \n",
              "11_model.2.linear_block.Dropout_3            NaN  \n",
              "12_model.3.linear_block.Linear_0       3420000.0  \n",
              "13_model.3.linear_block.BatchNorm1d_1     1800.0  \n",
              "14_model.3.linear_block.ReLU_2               NaN  \n",
              "15_model.3.linear_block.Dropout_3            NaN  \n",
              "16_model.4.linear_block.Linear_0       2700000.0  \n",
              "17_model.4.linear_block.BatchNorm1d_1     1500.0  \n",
              "18_model.4.linear_block.ReLU_2               NaN  \n",
              "19_model.4.linear_block.Dropout_3            NaN  \n",
              "20_model.5.linear_block.Linear_0       1800000.0  \n",
              "21_model.5.linear_block.BatchNorm1d_1     1200.0  \n",
              "22_model.5.linear_block.ReLU_2               NaN  \n",
              "23_model.5.linear_block.Dropout_3            NaN  \n",
              "24_model.Linear_6                        48000.0  "
            ]
          },
          "execution_count": 246,
          "metadata": {},
          "output_type": "execute_result"
        }
      ],
      "source": [
        "input_size = 15*(2*config['context'] + 1)\n",
        "model = Network(config['context']).to(device)\n",
        "\n",
        "## load model here\n",
        "#model.load_state_dict(torch.load('/content/drive/MyDrive/IDL_Adi/model_log_med_cutoff_with_8_layers.pth'))\n",
        "\n",
        "frames, phoneme = next(iter(train_loader))\n",
        "# Check number of parameters of your network - Remember, you are limited to 20 million parameters for HW1 (including ensembles)\n",
        "summary(model, frames.to(device))"
      ]
    },
    {
      "cell_type": "code",
      "execution_count": null,
      "metadata": {
        "colab": {
          "base_uri": "https://localhost:8080/"
        },
        "id": "L0HXh5tzhVdT",
        "outputId": "50969d6b-dca0-4c3d-e63f-05f305f9e952"
      },
      "outputs": [
        {
          "data": {
            "text/plain": [
              "Network(\n",
              "  (model): Sequential(\n",
              "    (0): LinearBlock(\n",
              "      (linear_block): Sequential(\n",
              "        (0): Linear(in_features=1065, out_features=2400, bias=False)\n",
              "        (1): BatchNorm1d(2400, eps=1e-05, momentum=0.1, affine=True, track_running_stats=True)\n",
              "        (2): ReLU(inplace=True)\n",
              "        (3): Dropout(p=0.2, inplace=False)\n",
              "      )\n",
              "    )\n",
              "    (1): LinearBlock(\n",
              "      (linear_block): Sequential(\n",
              "        (0): Linear(in_features=2400, out_features=2048, bias=False)\n",
              "        (1): BatchNorm1d(2048, eps=1e-05, momentum=0.1, affine=True, track_running_stats=True)\n",
              "        (2): ReLU(inplace=True)\n",
              "        (3): Dropout(p=0.2, inplace=False)\n",
              "      )\n",
              "    )\n",
              "    (2): LinearBlock(\n",
              "      (linear_block): Sequential(\n",
              "        (0): Linear(in_features=2048, out_features=1900, bias=False)\n",
              "        (1): BatchNorm1d(1900, eps=1e-05, momentum=0.1, affine=True, track_running_stats=True)\n",
              "        (2): ReLU(inplace=True)\n",
              "        (3): Dropout(p=0.2, inplace=False)\n",
              "      )\n",
              "    )\n",
              "    (3): LinearBlock(\n",
              "      (linear_block): Sequential(\n",
              "        (0): Linear(in_features=1900, out_features=1800, bias=False)\n",
              "        (1): BatchNorm1d(1800, eps=1e-05, momentum=0.1, affine=True, track_running_stats=True)\n",
              "        (2): ReLU(inplace=True)\n",
              "        (3): Dropout(p=0.2, inplace=False)\n",
              "      )\n",
              "    )\n",
              "    (4): LinearBlock(\n",
              "      (linear_block): Sequential(\n",
              "        (0): Linear(in_features=1800, out_features=1500, bias=False)\n",
              "        (1): BatchNorm1d(1500, eps=1e-05, momentum=0.1, affine=True, track_running_stats=True)\n",
              "        (2): ReLU(inplace=True)\n",
              "        (3): Dropout(p=0.2, inplace=False)\n",
              "      )\n",
              "    )\n",
              "    (5): LinearBlock(\n",
              "      (linear_block): Sequential(\n",
              "        (0): Linear(in_features=1500, out_features=1200, bias=False)\n",
              "        (1): BatchNorm1d(1200, eps=1e-05, momentum=0.1, affine=True, track_running_stats=True)\n",
              "        (2): ReLU(inplace=True)\n",
              "        (3): Dropout(p=0.2, inplace=False)\n",
              "      )\n",
              "    )\n",
              "    (6): Linear(in_features=1200, out_features=40, bias=True)\n",
              "  )\n",
              ")"
            ]
          },
          "execution_count": 247,
          "metadata": {},
          "output_type": "execute_result"
        }
      ],
      "source": [
        "model"
      ]
    },
    {
      "cell_type": "code",
      "execution_count": null,
      "metadata": {
        "id": "UROGEVJevKD-"
      },
      "outputs": [],
      "source": [
        "criterion = torch.nn.CrossEntropyLoss() #Defining Loss function \n",
        "optimizer = torch.optim.Adam(model.parameters(), lr=config['learning_rate']) #Defining Optimizer\n",
        "scheduler = torch.optim.lr_scheduler.ReduceLROnPlateau(optimizer, mode='min', factor=0.9, patience=1,verbose=True)\n",
        "# Recommended : Define Scheduler for Learning Rate, including but not limited to StepLR, MultiStepLR, CosineAnnealingLR, ReduceLROnPlateau, etc. \n",
        "# You can refer to Pytorch documentation for more information on how to use them."
      ]
    },
    {
      "cell_type": "markdown",
      "metadata": {
        "id": "IBwunYpyugFg"
      },
      "source": [
        "# Training and Validation Functions"
      ]
    },
    {
      "cell_type": "markdown",
      "metadata": {
        "id": "1JgeNhx4x2-P"
      },
      "source": [
        "This section covers the training, and validation functions for each epoch of running your experiment with a given model architecture. The code has been provided to you, but we recommend going through the comments to understand the workflow to enable you to write these loops for future HWs."
      ]
    },
    {
      "cell_type": "code",
      "execution_count": null,
      "metadata": {
        "colab": {
          "base_uri": "https://localhost:8080/"
        },
        "id": "XblOHEVtKab2",
        "outputId": "9c8eca43-7fd3-44a4-9bec-28b2b5a8a3cc"
      },
      "outputs": [
        {
          "data": {
            "text/plain": [
              "3385"
            ]
          },
          "execution_count": 249,
          "metadata": {},
          "output_type": "execute_result"
        }
      ],
      "source": [
        "torch.cuda.empty_cache()\n",
        "gc.collect()"
      ]
    },
    {
      "cell_type": "code",
      "execution_count": null,
      "metadata": {
        "id": "UpMonlEZNGP6"
      },
      "outputs": [],
      "source": [
        "from tqdm import tqdm"
      ]
    },
    {
      "cell_type": "code",
      "execution_count": null,
      "metadata": {
        "id": "8wjPz7DHqKcL"
      },
      "outputs": [],
      "source": [
        "def train(model, optimizer, criterion, dataloader):\n",
        "\n",
        "    model.train()\n",
        "    train_loss = 0.0 #Monitoring Loss\n",
        "    \n",
        "    for iter, (mfccs, phonemes) in enumerate(tqdm(dataloader)):\n",
        "\n",
        "        ### Move Data to Device (Ideally GPU)\n",
        "        mfccs = mfccs.to(device)\n",
        "        phonemes = phonemes.to(device)\n",
        "\n",
        "        ### Forward Propagation\n",
        "        logits = model(mfccs)\n",
        "\n",
        "        ### Loss Calculation\n",
        "        loss = criterion(logits, phonemes)\n",
        "        train_loss += loss.item()\n",
        "\n",
        "        ### Initialize Gradients\n",
        "        optimizer.zero_grad()\n",
        "\n",
        "        ### Backward Propagation\n",
        "        loss.backward()\n",
        "\n",
        "        ### Gradient Descent\n",
        "        optimizer.step()\n",
        "  \n",
        "    train_loss /= len(dataloader)\n",
        "    return train_loss"
      ]
    },
    {
      "cell_type": "code",
      "execution_count": null,
      "metadata": {
        "id": "Q5npQNFH315V"
      },
      "outputs": [],
      "source": [
        "def eval(model, dataloader):\n",
        "\n",
        "    model.eval() # set model in evaluation mode\n",
        "\n",
        "    phone_true_list = []\n",
        "    phone_pred_list = []\n",
        "    # sil_count = 0\n",
        "    # least_count = 0\n",
        "    eval_loss_tot = 0.0\n",
        "\n",
        "    for i, data in enumerate(dataloader):\n",
        "\n",
        "        frames, phonemes = data\n",
        "        ### Move data to device (ideally GPU)\n",
        "        frames, phonemes = frames.to(device), phonemes.to(device) \n",
        "\n",
        "        with torch.inference_mode(): # makes sure that there are no gradients computed as we are not training the model now\n",
        "            ### Forward Propagation\n",
        "            logits = model(frames)\n",
        "\n",
        "        ### Get Predictions\n",
        "        predicted_phonemes = torch.argmax(logits, dim=1)\n",
        "        \n",
        "        ### Store Pred and True Labels\n",
        "        phone_pred_list.extend(predicted_phonemes.cpu().tolist())\n",
        "        phone_true_list.extend(phonemes.cpu().tolist())  \n",
        "\n",
        "\n",
        "\n",
        "        eval_loss = criterion(logits, phonemes)\n",
        "        eval_loss_tot += eval_loss.item()\n",
        "        \n",
        "        # Do you think we need loss.backward() and optimizer.step() here?\n",
        "    \n",
        "        del frames, phonemes, logits\n",
        "        torch.cuda.empty_cache()\n",
        "    \n",
        "    scheduler.step(eval_loss_tot)\n",
        "\n",
        "    ### Calculate Accuracy\n",
        "    accuracy = sklearn.metrics.accuracy_score(phone_pred_list, phone_true_list) \n",
        "    # print('SIL instances: ',  sil_count)\n",
        "    return accuracy*100"
      ]
    },
    {
      "cell_type": "markdown",
      "metadata": {
        "id": "yMd_XxPku5qp"
      },
      "source": [
        "# Weights and Biases Setup"
      ]
    },
    {
      "cell_type": "markdown",
      "metadata": {
        "id": "tjIbhR1wwbgI"
      },
      "source": [
        "This section is to enable logging metrics and files with Weights and Biases. Please refer to wandb documentationa and recitation 0 that covers the use of weights and biases for logging, hyperparameter tuning and monitoring your runs for your homeworks. Using this tool makes it very easy to show results when submitting your code and models for homeworks, and also extremely useful for study groups to organize and run ablations under a single team in wandb. \n",
        "\n",
        "We have written code for you to make use of it out of the box, so that you start using wandb for all your HWs from the beginning."
      ]
    },
    {
      "cell_type": "code",
      "execution_count": null,
      "metadata": {
        "colab": {
          "base_uri": "https://localhost:8080/"
        },
        "id": "SCDYx5VEu6qI",
        "outputId": "ff103aaa-5190-47da-c597-7fb77e58320d"
      },
      "outputs": [
        {
          "name": "stderr",
          "output_type": "stream",
          "text": [
            "\u001b[34m\u001b[1mwandb\u001b[0m: \u001b[33mWARNING\u001b[0m If you're specifying your api key in code, ensure this code is not shared publicly.\n",
            "\u001b[34m\u001b[1mwandb\u001b[0m: \u001b[33mWARNING\u001b[0m Consider setting the WANDB_API_KEY environment variable, or running `wandb login` from the command line.\n",
            "\u001b[34m\u001b[1mwandb\u001b[0m: Appending key for api.wandb.ai to your netrc file: /root/.netrc\n"
          ]
        },
        {
          "data": {
            "text/plain": [
              "True"
            ]
          },
          "execution_count": 253,
          "metadata": {},
          "output_type": "execute_result"
        }
      ],
      "source": [
        "wandb.login(key=\"2178c9f0d96e90016c3d36bcccb07de5e0c51edc\") #API Key is in your wandb account, under settings (wandb.ai/settings)"
      ]
    },
    {
      "cell_type": "code",
      "execution_count": null,
      "metadata": {
        "colab": {
          "base_uri": "https://localhost:8080/",
          "height": 70
        },
        "id": "xvUnYd3Bw2up",
        "outputId": "a089b827-b8c3-413c-e8fb-df4e171ad243"
      },
      "outputs": [
        {
          "data": {
            "text/html": [
              "Tracking run with wandb version 0.13.3"
            ],
            "text/plain": [
              "<IPython.core.display.HTML object>"
            ]
          },
          "metadata": {},
          "output_type": "display_data"
        },
        {
          "data": {
            "text/html": [
              "Run data is saved locally in <code>/content/wandb/run-20220930_133028-3718tqzn</code>"
            ],
            "text/plain": [
              "<IPython.core.display.HTML object>"
            ]
          },
          "metadata": {},
          "output_type": "display_data"
        },
        {
          "data": {
            "text/html": [
              "Syncing run <strong><a href=\"https://wandb.ai/11-785-study-group/hw1p2/runs/3718tqzn\" target=\"_blank\">first-run</a></strong> to <a href=\"https://wandb.ai/11-785-study-group/hw1p2\" target=\"_blank\">Weights & Biases</a> (<a href=\"https://wandb.me/run\" target=\"_blank\">docs</a>)<br/>"
            ],
            "text/plain": [
              "<IPython.core.display.HTML object>"
            ]
          },
          "metadata": {},
          "output_type": "display_data"
        }
      ],
      "source": [
        "# Create your wandb run\n",
        "run = wandb.init(\n",
        "    name = \"first-run\", ### Wandb creates random run names if you skip this field, we recommend you give useful names\n",
        "    reinit=True, ### Allows reinitalizing runs when you re-run this cell\n",
        "    project=\"hw1p2\", ### Project should be created in your wandb account \n",
        "    config=config ### Wandb Config for your run\n",
        ")"
      ]
    },
    {
      "cell_type": "markdown",
      "metadata": {
        "id": "k4GDQRlptEbp"
      },
      "source": []
    },
    {
      "cell_type": "code",
      "execution_count": null,
      "metadata": {
        "colab": {
          "base_uri": "https://localhost:8080/"
        },
        "id": "wft15E_IxYFi",
        "outputId": "a4692cd3-e57a-4d67-a02f-72c32bc41344"
      },
      "outputs": [
        {
          "data": {
            "text/plain": [
              "['/content/wandb/run-20220930_133028-3718tqzn/files/model_arch.txt']"
            ]
          },
          "execution_count": 255,
          "metadata": {},
          "output_type": "execute_result"
        }
      ],
      "source": [
        "### Save your model architecture as a string with str(model) \n",
        "model_arch = str(model)\n",
        "\n",
        "### Save it in a txt file \n",
        "arch_file = open(\"model_arch.txt\", \"w\")\n",
        "file_write = arch_file.write(model_arch)\n",
        "arch_file.close()\n",
        "\n",
        "### log it in your wandb run with wandb.save()\n",
        "wandb.save('model_arch.txt')"
      ]
    },
    {
      "cell_type": "markdown",
      "metadata": {
        "id": "nclx_04fu7Dd"
      },
      "source": [
        "# Experiment"
      ]
    },
    {
      "cell_type": "markdown",
      "metadata": {
        "id": "MdLMWfEpyGOB"
      },
      "source": [
        "Now, it is time to finally run your ablations! Have fun!"
      ]
    },
    {
      "cell_type": "code",
      "execution_count": null,
      "metadata": {
        "colab": {
          "base_uri": "https://localhost:8080/"
        },
        "id": "MG4F77Nm0Am9",
        "outputId": "c54def15-ca7d-48a2-eb25-7e09c27d16a3"
      },
      "outputs": [
        {
          "name": "stdout",
          "output_type": "stream",
          "text": [
            "\n",
            "Epoch 1/30\n"
          ]
        },
        {
          "name": "stderr",
          "output_type": "stream",
          "text": [
            "100%|██████████| 17672/17672 [12:50<00:00, 22.94it/s]\n"
          ]
        },
        {
          "name": "stdout",
          "output_type": "stream",
          "text": [
            "\tTrain Loss: 0.7085\n",
            "\tValidation Accuracy: 80.43%\n",
            "\n",
            "Epoch 2/30\n"
          ]
        },
        {
          "name": "stderr",
          "output_type": "stream",
          "text": [
            "100%|██████████| 17672/17672 [12:52<00:00, 22.89it/s]\n"
          ]
        },
        {
          "name": "stdout",
          "output_type": "stream",
          "text": [
            "\tTrain Loss: 0.5387\n",
            "\tValidation Accuracy: 82.57%\n",
            "\n",
            "Epoch 3/30\n"
          ]
        },
        {
          "name": "stderr",
          "output_type": "stream",
          "text": [
            "100%|██████████| 17672/17672 [12:50<00:00, 22.92it/s]\n"
          ]
        },
        {
          "name": "stdout",
          "output_type": "stream",
          "text": [
            "\tTrain Loss: 0.4892\n",
            "\tValidation Accuracy: 83.31%\n",
            "\n",
            "Epoch 4/30\n"
          ]
        },
        {
          "name": "stderr",
          "output_type": "stream",
          "text": [
            "100%|██████████| 17672/17672 [12:47<00:00, 23.03it/s]\n"
          ]
        },
        {
          "name": "stdout",
          "output_type": "stream",
          "text": [
            "\tTrain Loss: 0.4605\n",
            "\tValidation Accuracy: 83.90%\n",
            "\n",
            "Epoch 5/30\n"
          ]
        },
        {
          "name": "stderr",
          "output_type": "stream",
          "text": [
            "100%|██████████| 17672/17672 [12:42<00:00, 23.17it/s]\n"
          ]
        },
        {
          "name": "stdout",
          "output_type": "stream",
          "text": [
            "\tTrain Loss: 0.4403\n",
            "\tValidation Accuracy: 84.22%\n",
            "\n",
            "Epoch 6/30\n"
          ]
        },
        {
          "name": "stderr",
          "output_type": "stream",
          "text": [
            "100%|██████████| 17672/17672 [12:36<00:00, 23.37it/s]\n"
          ]
        },
        {
          "name": "stdout",
          "output_type": "stream",
          "text": [
            "\tTrain Loss: 0.4252\n",
            "\tValidation Accuracy: 84.46%\n",
            "\n",
            "Epoch 7/30\n"
          ]
        },
        {
          "name": "stderr",
          "output_type": "stream",
          "text": [
            " 78%|███████▊  | 13716/17672 [09:42<02:42, 24.40it/s]"
          ]
        }
      ],
      "source": [
        "# Iterate over number of epochs to train and evaluate your model\n",
        "torch.cuda.empty_cache()\n",
        "\n",
        "best_acc = 0.0 ### Monitor best accuracy in your run\n",
        "\n",
        "save_path = '/content/drive/MyDrive/IDL_Adi/model_log_high_cutoff_with_data_aug.pth'              ########### Correct for overwriting\n",
        "\n",
        "for epoch in range(config['epochs']):\n",
        "    print(\"\\nEpoch {}/{}\".format(epoch+1, config['epochs']))\n",
        "\n",
        "    train_loss = train(model, optimizer, criterion, train_loader)\n",
        "    accuracy = eval(model, val_loader)\n",
        "\n",
        "    print(\"\\tTrain Loss: {:.4f}\".format(train_loss))\n",
        "    print(\"\\tValidation Accuracy: {:.2f}%\".format(accuracy))\n",
        "\n",
        "\n",
        "    ### Log metrics at each epoch in your run - Optionally, you can log at each batch inside train/eval functions (explore wandb documentation/wandb recitation)\n",
        "    wandb.log({\"train loss\": train_loss, \"validation accuracy\": accuracy})\n",
        "\n",
        "    ### Save checkpoint if accuracy is better than your current best\n",
        "    if accuracy >= best_acc:\n",
        "\n",
        "      ### Save checkpoint with information you want\n",
        "      torch.save({'epoch': epoch,\n",
        "              'model_state_dict': model.state_dict(),\n",
        "            #   'optimizer_state_dict': optimizer.state_dict(),\n",
        "              'loss': train_loss,\n",
        "              'acc': accuracy}, \n",
        "        './model_checkpoint.pth')\n",
        "      \n",
        "      ### Save checkpoint in wandb\n",
        "      wandb.save('checkpoint.pth')\n",
        "\n",
        "      torch.save({'epoch': epoch,\n",
        "              'model_state_dict': model.state_dict(),\n",
        "            #   'optimizer_state_dict': optimizer.state_dict(),\n",
        "              'loss': train_loss,\n",
        "              'acc': accuracy}, save_path)\n",
        "\n",
        "    # Is your training time very high? Look into mixed precision training if your GPU (Tesla T4, V100, etc) can make use of it \n",
        "    # Refer - https://pytorch.org/docs/stable/notes/amp_examples.html\n",
        "\n",
        "### Finish your wandb run\n",
        "\n",
        "run.finish()"
      ]
    },
    {
      "cell_type": "markdown",
      "metadata": {
        "id": "_kXwf5YUo_4A"
      },
      "source": [
        "# Testing and submission to Kaggle"
      ]
    },
    {
      "cell_type": "markdown",
      "metadata": {
        "id": "WI1hSFYLpJvH"
      },
      "source": [
        "Before we get to the following code, make sure to see the format of submission given in *random_submission.csv*. Once you have done so, it is time to fill the following function to complete your inference on test data. Refer the eval function from previous cells to get an idea of how to go about completing this function."
      ]
    },
    {
      "cell_type": "code",
      "execution_count": null,
      "metadata": {
        "id": "R-SU9fZ3xHtk"
      },
      "outputs": [],
      "source": [
        "def test(model, test_loader):\n",
        "  ### What you call for model to perform inference?\n",
        "  model.eval()\n",
        "\n",
        "  ### List to store predicted phonemes of test data\n",
        "  test_predictions = []\n",
        "\n",
        "  ### Which mode do you need to avoid gradients?\n",
        "  with torch.no_grad():\n",
        "\n",
        "      for i, frames in enumerate(tqdm(test_loader)):\n",
        "\n",
        "          frames = frames.float().to(device)             \n",
        "          \n",
        "          output = model(frames)\n",
        "\n",
        "          ### Get most likely predicted phoneme with argmax\n",
        "          predicted_phonemes = torch.argmax(output, dim=1)        ###      !!!!!!!!!     Cross-Check\n",
        "\n",
        "          ### How do you store predicted_phonemes with test_predictions? Hint, look at eval \n",
        "          test_predictions.extend(predicted_phonemes.cpu().tolist())  #using .cpu() to copy tensors to host cpu first ###      !!!!!!!!!     Cross-Check\n",
        "          \n",
        "  return test_predictions"
      ]
    },
    {
      "cell_type": "code",
      "execution_count": null,
      "metadata": {
        "id": "wG9v6Xmxu7wp"
      },
      "outputs": [],
      "source": [
        "predictions = test(model, test_loader)"
      ]
    },
    {
      "cell_type": "code",
      "execution_count": null,
      "metadata": {
        "id": "ZE1hRnvf0bFz"
      },
      "outputs": [],
      "source": [
        "### Create CSV file with predictions\n",
        "with open(\"./submission.csv\", \"w+\") as f:\n",
        "    f.write(\"id,label\\n\")\n",
        "    for i in range(len(predictions)):\n",
        "        f.write(\"{},{}\\n\".format(i, predictions[i]))"
      ]
    },
    {
      "cell_type": "code",
      "execution_count": null,
      "metadata": {
        "id": "LjcammuCxMKN"
      },
      "outputs": [],
      "source": [
        "## Submit to kaggle competition using kaggle API\n",
        "#!kaggle competitions submit -c 11-785-f22-hw1p2 -f ./submission.csv -m \"Test Submission\""
      ]
    }
  ],
  "metadata": {
    "accelerator": "GPU",
    "colab": {
      "collapsed_sections": [],
      "machine_shape": "hm",
      "provenance": []
    },
    "gpuClass": "standard",
    "kernelspec": {
      "display_name": "Python 3.9.10 64-bit",
      "language": "python",
      "name": "python3"
    },
    "language_info": {
      "name": "python",
      "version": "3.9.10"
    },
    "vscode": {
      "interpreter": {
        "hash": "b0fa6594d8f4cbf19f97940f81e996739fb7646882a419484c72d19e05852a7e"
      }
    }
  },
  "nbformat": 4,
  "nbformat_minor": 0
}
